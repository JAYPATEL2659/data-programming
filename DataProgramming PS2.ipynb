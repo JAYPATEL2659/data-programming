{
 "cells": [
  {
   "cell_type": "markdown",
   "id": "3792ebfc",
   "metadata": {},
   "source": [
    "# DATAPROGRAMMING PROBLEM SET-2"
   ]
  },
  {
   "cell_type": "markdown",
   "id": "11100e09",
   "metadata": {},
   "source": [
    "QUESTION 1"
   ]
  },
  {
   "cell_type": "code",
   "execution_count": 75,
   "id": "24cc7268",
   "metadata": {},
   "outputs": [
    {
     "data": {
      "text/plain": [
       "6"
      ]
     },
     "execution_count": 75,
     "metadata": {},
     "output_type": "execute_result"
    }
   ],
   "source": [
    "a = 0\n",
    "def b():\n",
    "    global a\n",
    "    a = c(a)\n",
    "def c(a):\n",
    "    return a + 2\n",
    "b()\n",
    "b()\n",
    "b()\n",
    "a"
   ]
  },
  {
   "cell_type": "markdown",
   "id": "a5d39a86",
   "metadata": {},
   "source": [
    " For the above program we get the output as 6 because its initial value is 0 and then it is defined into a new function.\n",
    "    after that it is then again defined into one more new function where it is returned with some value added. following\n",
    "    the above steps, first we get the value of b as 2 and then it is added furtherly. finally we get 2 again and again. \n",
    "    adding all of the values the final output would be 6."
   ]
  },
  {
   "cell_type": "markdown",
   "id": "7b55fbd5",
   "metadata": {},
   "source": [
    "QUESTION 2"
   ]
  },
  {
   "cell_type": "code",
   "execution_count": 81,
   "id": "db2cdb56",
   "metadata": {},
   "outputs": [
    {
     "name": "stdout",
     "output_type": "stream",
     "text": [
      "127\n",
      "Midterm.py does not exist.\n"
     ]
    },
    {
     "data": {
      "text/plain": [
       "-1"
      ]
     },
     "execution_count": 81,
     "metadata": {},
     "output_type": "execute_result"
    }
   ],
   "source": [
    "import os\n",
    "\n",
    "def fileLength(filename):\n",
    "    # Check if the file exists\n",
    "    if not os.path.isfile(filename):\n",
    "        print(f\"{filename} does not exist.\")\n",
    "        return -1\n",
    "\n",
    "    # Get the size of the file in bytes\n",
    "    size = os.path.getsize(filename)\n",
    "\n",
    "    print(size)\n",
    "\n",
    "fileLength(\"FileLength.txt\")\n",
    "fileLength(\"Midterm.py\")"
   ]
  },
  {
   "cell_type": "markdown",
   "id": "e8f01823",
   "metadata": {},
   "source": [
    "QUESTION 3"
   ]
  },
  {
   "cell_type": "code",
   "execution_count": 80,
   "id": "19492f10",
   "metadata": {},
   "outputs": [
    {
     "name": "stdout",
     "output_type": "stream",
     "text": [
      "['doll', 'firetruck', 'kitten']\n",
      "I am a Kangaroo located at coordinates (0,0)\n",
      "['doll', 'firetruck', 'kitten']\n",
      "I am a Kangaroo located at coordinates (3,0)\n"
     ]
    }
   ],
   "source": [
    "class Marsupial:\n",
    "   \n",
    "    def __init__(self):\n",
    "        self.pouch = []\n",
    "\n",
    "    def put_in_pouch(self, item):\n",
    "        self.pouch.append(item)\n",
    "\n",
    "    def pouch_contents(self):\n",
    "        return self.pouch\n",
    "    \n",
    "class Kangaroo(Marsupial):\n",
    "    def __init__(self, x=0, y=0):\n",
    "        super().__init__()\n",
    "        self.x = x\n",
    "        self.y = y\n",
    "        \n",
    "    def jump(self, dx, dy):\n",
    "        self.x += dx\n",
    "        self.y += dy\n",
    "        \n",
    "    def __str__(self):\n",
    "        return f\"I am a Kangaroo located at coordinates ({self.x},{self.y})\"\n",
    "\n",
    "\n",
    "# Example usage\n",
    "m = Marsupial()\n",
    "m.put_in_pouch('doll')\n",
    "m.put_in_pouch('firetruck')\n",
    "m.put_in_pouch('kitten')\n",
    "print(m.pouch_contents())\n",
    "\n",
    "k = Kangaroo(0, 0)\n",
    "print(k)\n",
    "k.put_in_pouch('doll')\n",
    "k.put_in_pouch('firetruck')\n",
    "k.put_in_pouch('kitten')\n",
    "print(k.pouch_contents())\n",
    "k.jump(1, 0)\n",
    "k.jump(1, 0)\n",
    "k.jump(1, 0)\n",
    "print(k)"
   ]
  },
  {
   "cell_type": "markdown",
   "id": "af91a08c",
   "metadata": {},
   "source": [
    "QUESTION 4"
   ]
  },
  {
   "cell_type": "code",
   "execution_count": 61,
   "id": "b666d440",
   "metadata": {},
   "outputs": [
    {
     "name": "stdout",
     "output_type": "stream",
     "text": [
      "10\n",
      "5\n",
      "16\n",
      "8\n",
      "4\n",
      "2\n",
      "1\n"
     ]
    }
   ],
   "source": [
    "def collatz(x):\n",
    "    print(x)\n",
    "    if x == 1:\n",
    "        return\n",
    "    elif x % 2 == 0:\n",
    "        collatz(x // 2)\n",
    "    else:\n",
    "        collatz(3 * x + 1)\n",
    "collatz(10)"
   ]
  },
  {
   "cell_type": "markdown",
   "id": "ec5275c1",
   "metadata": {},
   "source": [
    "QUESTION 5"
   ]
  },
  {
   "cell_type": "code",
   "execution_count": 70,
   "id": "26f5e40a",
   "metadata": {},
   "outputs": [
    {
     "name": "stdout",
     "output_type": "stream",
     "text": [
      "0 : 0\n",
      "1 : 1\n",
      "3 : 11\n",
      "9 : 1001"
     ]
    }
   ],
   "source": [
    "def binary(n):\n",
    "    if n < 2:\n",
    "        print(n, end=\"\")\n",
    "    else:\n",
    "        binary(n // 2)\n",
    "        print(n % 2, end=\"\")\n",
    "print(\"0 : \", end=\"\")\n",
    "binary(0)\n",
    "print(\"\\n1 : \", end=\"\")\n",
    "binary(1)\n",
    "print(\"\\n3 : \", end=\"\")\n",
    "binary(3)\n",
    "print(\"\\n9 : \", end=\"\")\n",
    "binary(9)"
   ]
  },
  {
   "cell_type": "markdown",
   "id": "37cc8799",
   "metadata": {},
   "source": [
    "QUESTION 6"
   ]
  },
  {
   "cell_type": "code",
   "execution_count": 57,
   "id": "4a7e4156",
   "metadata": {},
   "outputs": [
    {
     "name": "stdout",
     "output_type": "stream",
     "text": [
      "<h1>\n",
      "<h2>\n"
     ]
    }
   ],
   "source": [
    "from html.parser import HTMLParser\n",
    "\n",
    "class HeadingParser(HTMLParser):\n",
    "    def __init__(self):\n",
    "        super().__init__()\n",
    "        self.headings = []\n",
    "\n",
    "    def handle_starttag(self, tag, attrs):\n",
    "        if tag.startswith('h') and len(tag) > 1 and tag[1].isdigit():\n",
    "            level = int(tag[1])\n",
    "            self.headings.append((' '*(level-1)) + self.get_starttag_text())\n",
    "\n",
    "    def print_headings(self):\n",
    "        for heading in self.headings:\n",
    "            print(heading.strip())\n",
    "            \n",
    "            \n",
    "infile = open('w3c.html')\n",
    "content = infile.read()\n",
    "infile.close()\n",
    "hp = HeadingParser()\n",
    "hp.feed(content)\n",
    "hp.print_headings()"
   ]
  },
  {
   "cell_type": "markdown",
   "id": "843cf019",
   "metadata": {},
   "source": [
    "QUESTION 7"
   ]
  },
  {
   "cell_type": "code",
   "execution_count": 50,
   "id": "209a2c33",
   "metadata": {},
   "outputs": [
    {
     "name": "stdout",
     "output_type": "stream",
     "text": [
      "http://reed.cs.depaul.edu/lperkovic/csc242/test1.html\n"
     ]
    }
   ],
   "source": [
    "import requests\n",
    "from bs4 import BeautifulSoup\n",
    "\n",
    "def my_webdir(url, depth, indent):\n",
    "    if depth == 0:\n",
    "        return\n",
    "    \n",
    "    # Fetch the HTML content of the web page\n",
    "    response = requests.get(url)\n",
    "    html = response.text\n",
    "    \n",
    "    # Parse the HTML content and extract the links\n",
    "    soup = BeautifulSoup(html, 'html.parser')\n",
    "    links = [link.get('href') for link in soup.find_all('a')]\n",
    "    \n",
    "    # Print the current URL\n",
    "    print(' ' * indent + url)\n",
    "    \n",
    "    # Recursively visit each link\n",
    "    for link in links:\n",
    "        if link.startswith('http'):\n",
    "            webdir(link, depth - 1, indent + 4)\n",
    "\n",
    "webdir('http://reed.cs.depaul.edu/lperkovic/csc242/test1.html', 2, 0)"
   ]
  },
  {
   "cell_type": "markdown",
   "id": "75db3b36",
   "metadata": {},
   "source": [
    "QUESTION 8"
   ]
  },
  {
   "cell_type": "code",
   "execution_count": 64,
   "id": "4555fdc1",
   "metadata": {},
   "outputs": [
    {
     "name": "stdout",
     "output_type": "stream",
     "text": [
      "Table created and sample data inserted.\n"
     ]
    }
   ],
   "source": [
    "import sqlite3\n",
    "\n",
    "# Connect to database\n",
    "conn = sqlite3.connect('test.db')\n",
    "\n",
    "# Check if the table already exists\n",
    "cursor = conn.execute(\"SELECT name FROM sqlite_master WHERE type='table' AND name='WEATHER_DATAS';\")\n",
    "exists = cursor.fetchone()\n",
    "\n",
    "if not exists:\n",
    "    # Create a new table called \"WEATHER_DATAS\"\n",
    "    conn.execute('''CREATE TABLE WEATHER_DATAS (\n",
    "                     City VARCHAR(200),\n",
    "                     Country VARCHAR(200),\n",
    "                     Season VARCHAR(200),\n",
    "                     Temperature REAL,\n",
    "                     Rainfall REAL);''')\n",
    "\n",
    "    # Insert some sample data into the table\n",
    "    conn.execute(\"INSERT INTO WEATHER_DATAS VALUES ('Mumbai', 'India', 'Winter', 24.8, 5.9);\")\n",
    "    conn.execute(\"INSERT INTO WEATHER_DATAS VALUES ('Mumbai', 'India', 'Spring', 28.4, 16.2);\")\n",
    "    conn.execute(\"INSERT INTO WEATHER_DATAS VALUES ('Mumbai', 'India', 'Summer', 27.9, 1549.4);\")\n",
    "    conn.execute(\"INSERT INTO WEATHER_DATAS VALUES ('Mumbai', 'India', 'Fall', 27.6, 346.0);\")\n",
    "    conn.execute(\"INSERT INTO WEATHER_DATAS VALUES ('London', 'United Kingdom', 'Winter', 4.2, 207.7);\")\n",
    "    conn.execute(\"INSERT INTO WEATHER_DATAS VALUES ('London', 'United Kingdom', 'Spring', 8.3, 169.6);\")\n",
    "    conn.execute(\"INSERT INTO WEATHER_DATAS VALUES ('London', 'United Kingdom', 'Summer', 15.7, 157.0);\")\n",
    "    conn.execute(\"INSERT INTO WEATHER_DATAS VALUES ('London', 'United Kingdom', 'Fall', 10.4, 218.5);\")\n",
    "    conn.execute(\"INSERT INTO WEATHER_DATAS VALUES ('Cairo', 'Egypt', 'Winter', 10.4, 218.5);\")\n",
    "    conn.execute(\"INSERT INTO WEATHER_DATAS VALUES ('Cairo', 'Egypt', 'Spring', 10.4, 218.5);\")\n",
    "    conn.execute(\"INSERT INTO WEATHER_DATAS VALUES ('Cairo', 'Egypt', 'Summer', 10.4, 218.5);\")\n",
    "    conn.execute(\"INSERT INTO WEATHER_DATAS VALUES ('Cairo', 'Egypt', 'Fall', 10.4, 218.5);\")\n",
    "\n",
    "    # Commit the changes\n",
    "    conn.commit()\n",
    "    print(\"Table created and sample data inserted.\")\n",
    "else:\n",
    "    print(\"Table already exists.\")\n",
    "\n",
    "# Close the connection\n",
    "conn.close()"
   ]
  },
  {
   "cell_type": "markdown",
   "id": "d1b5afd5",
   "metadata": {},
   "source": [
    "QUESTION 9"
   ]
  },
  {
   "cell_type": "code",
   "execution_count": 47,
   "id": "4d1d0e7b",
   "metadata": {},
   "outputs": [
    {
     "name": "stdout",
     "output_type": "stream",
     "text": [
      "['THE', 'QUICK', 'BROWN', 'FOX', 'JUMPS', 'OVER', 'THE', 'LAZY', 'DOG']\n",
      "['the', 'quick', 'brown', 'fox', 'jumps', 'over', 'the', 'lazy', 'dog']\n",
      "[3, 5, 5, 3, 5, 4, 3, 4, 3]\n",
      "[['THE', 'the', 3], ['QUICK', 'quick', 5], ['BROWN', 'brown', 5], ['FOX', 'fox', 3], ['JUMPS', 'jumps', 5], ['OVER', 'over', 4], ['THE', 'the', 3], ['LAZY', 'lazy', 4], ['DOG', 'dog', 3]]\n",
      "['quick', 'brown', 'jumps']\n"
     ]
    }
   ],
   "source": [
    "word_list = ['The', 'quick', 'brown', 'fox', 'jumps', 'over', 'the', 'lazy', 'dog']\n",
    "\n",
    "upper_list = []\n",
    "lower_list = []\n",
    "length_list = []\n",
    "combinations_list = []\n",
    "long_words_list = []\n",
    "\n",
    "for word in word_list: \n",
    "    upper_list.append(word.upper())\n",
    "    lower_list.append(word.lower())\n",
    "    length_list.append(len(word))\n",
    "    combinations_list.append([word.upper(), word.lower(), len(word)])\n",
    "    if len(word) > 4: \n",
    "        long_words_list.append(word)\n",
    "\n",
    "print(upper_list)\n",
    "print(lower_list)\n",
    "print(length_list)   \n",
    "print(combinations_list)  \n",
    "print(long_words_list)"
   ]
  }
 ],
 "metadata": {
  "kernelspec": {
   "display_name": "Python 3 (ipykernel)",
   "language": "python",
   "name": "python3"
  },
  "language_info": {
   "codemirror_mode": {
    "name": "ipython",
    "version": 3
   },
   "file_extension": ".py",
   "mimetype": "text/x-python",
   "name": "python",
   "nbconvert_exporter": "python",
   "pygments_lexer": "ipython3",
   "version": "3.9.13"
  }
 },
 "nbformat": 4,
 "nbformat_minor": 5
}
